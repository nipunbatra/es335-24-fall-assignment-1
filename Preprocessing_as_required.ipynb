{
 "cells": [
  {
   "cell_type": "code",
   "execution_count": 10,
   "id": "567b34e9-63dd-44fd-97de-a9487e644f68",
   "metadata": {},
   "outputs": [
    {
     "name": "stdout",
     "output_type": "stream",
     "text": [
      "X_test shape: (20887, 24)\n",
      "y_test shape: (20887,)\n"
     ]
    }
   ],
   "source": [
    "import os\n",
    "import pandas as pd\n",
    "import numpy as np\n",
    "from scipy.fft import fft\n",
    "\n",
    "\n",
    "base_path = '/Users/karthik/Documents/Task 4/Experimental_data'\n",
    "\n",
    "\n",
    "data_list = []\n",
    "labels_list = []\n",
    "\n",
    "\n",
    "task_mapping = {\n",
    "    'laying': 'LAYING',\n",
    "    'sitting': 'SITTING',\n",
    "    'standing': 'STANDING',\n",
    "    'walking': 'WALKING',\n",
    "    'climbing_up': 'WALKING_UPSTAIRS',\n",
    "    'climbing_down': 'WALKING_DOWNSTAIRS'\n",
    "}\n",
    "\n",
    "# Function to compute FFT features\n",
    "def compute_fft_features(signal):\n",
    "    signal = np.array(signal)  \n",
    "    fft_values = fft(signal)\n",
    "    fft_magnitude = np.abs(fft_values)\n",
    "    return [np.mean(fft_magnitude), np.std(fft_magnitude), np.max(fft_magnitude), np.min(fft_magnitude)]\n",
    "\n",
    "# Function to compute time-domain features\n",
    "def compute_time_domain_features(df):\n",
    "    features = []\n",
    "    for axis in ['x', 'y', 'z']:\n",
    "        col = f'a{axis} (m/s^2)'\n",
    "        features.extend([\n",
    "            df[col].mean(),  # Mean\n",
    "            df[col].std(),   # Standard Deviation\n",
    "            df[col].min(),   # Min\n",
    "            df[col].max()    # Max\n",
    "        ])\n",
    "        # Compute FFT features\n",
    "        fft_features = compute_fft_features(df[col])\n",
    "        features.extend(fft_features)\n",
    "    return features\n",
    "\n",
    "# Loop through each subject's folder (karthik, prathamesh, sambhav)\n",
    "for subject in os.listdir(base_path):\n",
    "    subject_path = os.path.join(base_path, subject)\n",
    "    \n",
    "    # Check if the subject path is a directory\n",
    "    if os.path.isdir(subject_path):\n",
    "        # Loop through each task folder (laying, sitting, etc.)\n",
    "        for task in os.listdir(subject_path):\n",
    "            task_path = os.path.join(subject_path, task)\n",
    "            \n",
    "            # Check if the task path is a directory\n",
    "            if os.path.isdir(task_path):\n",
    "                # Read the linear_acc.csv file\n",
    "                linear_acc_file = os.path.join(task_path, 'linear_acc.csv')\n",
    "                if os.path.exists(linear_acc_file):\n",
    "                    df = pd.read_csv(linear_acc_file)\n",
    "                    \n",
    "                    # Compute features for each row in the DataFrame\n",
    "                    for _, row in df.iterrows():\n",
    "                        features = compute_time_domain_features(pd.DataFrame([row]))\n",
    "                        data_list.append(features)\n",
    "                        \n",
    "                        # Map the task folder name to the corresponding label\n",
    "                        label = task_mapping.get(task, 'UNKNOWN')  # Default to 'UNKNOWN' if task is not in the mapping\n",
    "                        labels_list.append(label)\n",
    "\n",
    "\n",
    "columns = [\n",
    "    'a_x_mean', 'a_x_std', 'a_x_min', 'a_x_max',\n",
    "    'a_y_mean', 'a_y_std', 'a_y_min', 'a_y_max',\n",
    "    'a_z_mean', 'a_z_std', 'a_z_min', 'a_z_max',\n",
    "    'a_x_fft_mean', 'a_x_fft_std', 'a_x_fft_max', 'a_x_fft_min',\n",
    "    'a_y_fft_mean', 'a_y_fft_std', 'a_y_fft_max', 'a_y_fft_min',\n",
    "    'a_z_fft_mean', 'a_z_fft_std', 'a_z_fft_max', 'a_z_fft_min'\n",
    "]\n",
    "\n",
    "X_test = pd.DataFrame(data_list, columns=columns)\n",
    "y_test = pd.Series(labels_list, name='Activity')\n",
    "\n",
    "print(\"X_test shape:\", X_test.shape)\n",
    "print(\"y_test shape:\", y_test.shape)\n"
   ]
  },
  {
   "cell_type": "code",
   "execution_count": 11,
   "id": "06ccbe42-cef5-491b-a25b-2353018d0cb6",
   "metadata": {},
   "outputs": [
    {
     "name": "stdout",
     "output_type": "stream",
     "text": [
      "X_test saved to /Users/karthik/Documents/Task 4/X_test.csv\n",
      "y_test saved to /Users/karthik/Documents/Task 4/y_test.csv\n"
     ]
    }
   ],
   "source": [
    "\n",
    "\n",
    "\n",
    "output_dir = '/Users/karthik/Documents/Task 4/'\n",
    "\n",
    "\n",
    "X_test_file = os.path.join(output_dir, 'X_test.csv')\n",
    "y_test_file = os.path.join(output_dir, 'y_test.csv')\n",
    "\n",
    "# Save DataFrames to CSV\n",
    "X_test.to_csv(X_test_file, index=False)\n",
    "y_test.to_csv(y_test_file, index=False)\n",
    "\n",
    "print(f\"X_test saved to {X_test_file}\")\n",
    "print(f\"y_test saved to {y_test_file}\")\n"
   ]
  },
  {
   "cell_type": "code",
   "execution_count": null,
   "id": "935d1ec2-87f4-48b4-be6a-06ac40c39502",
   "metadata": {},
   "outputs": [],
   "source": []
  }
 ],
 "metadata": {
  "kernelspec": {
   "display_name": "Python 3 (ipykernel)",
   "language": "python",
   "name": "python3"
  },
  "language_info": {
   "codemirror_mode": {
    "name": "ipython",
    "version": 3
   },
   "file_extension": ".py",
   "mimetype": "text/x-python",
   "name": "python",
   "nbconvert_exporter": "python",
   "pygments_lexer": "ipython3",
   "version": "3.12.4"
  }
 },
 "nbformat": 4,
 "nbformat_minor": 5
}
